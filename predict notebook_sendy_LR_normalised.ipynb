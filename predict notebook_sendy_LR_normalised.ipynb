{
 "cells": [
  {
   "cell_type": "markdown",
   "metadata": {},
   "source": [
    "import libraries"
   ]
  },
  {
   "cell_type": "code",
   "execution_count": null,
   "metadata": {
    "id": "oDXODes-aj3_"
   },
   "outputs": [],
   "source": [
    "import pandas as pd\n",
    "import numpy as np\n",
    "from sklearn import preprocessing\n",
    "import matplotlib.pyplot as plt\n",
    "import seaborn as sns\n",
    "\n",
    "from sklearn.metrics import mean_squared_error\n",
    "from sklearn import *\n",
    "from sklearn.linear_model import *\n",
    "from sklearn.model_selection import train_test_split"
   ]
  },
  {
   "cell_type": "code",
   "execution_count": null,
   "metadata": {
    "id": "TxJejZJear2V"
   },
   "outputs": [],
   "source": [
    "train = pd.read_csv('https://raw.githubusercontent.com/triggertray/Predict_zindi/master/Train.csv')\n",
    "train.columns = [col.replace(' ', '_') for col in train.columns]"
   ]
  },
  {
   "cell_type": "code",
   "execution_count": null,
   "metadata": {
    "id": "Tv63NRbjawrp"
   },
   "outputs": [],
   "source": [
    "test = pd.read_csv('https://raw.githubusercontent.com/triggertray/Predict_zindi/master/Test.csv')\n",
    "test.columns = [col.replace(' ', '_')for col in test.columns]"
   ]
  },
  {
   "cell_type": "code",
   "execution_count": null,
   "metadata": {
    "id": "xJmpIZ_8dKE7"
   },
   "outputs": [],
   "source": [
    "train1 = train.copy(deep=True)\n",
    "test1 = test.copy(deep=True)"
   ]
  },
  {
   "cell_type": "code",
   "execution_count": null,
   "metadata": {
    "colab": {
     "base_uri": "https://localhost:8080/",
     "height": 384
    },
    "id": "gV6NDJ7LE4UC",
    "outputId": "d3f54107-ce70-4a66-8f7b-d247d16efe71"
   },
   "outputs": [
    {
     "data": {
      "text/plain": [
       "Time_from_Pickup_to_Arrival                  1.000000\n",
       "Distance_(KM)                                0.580608\n",
       "Destination_Long                             0.070425\n",
       "Pickup_Long                                  0.060285\n",
       "Precipitation_in_millimeters                 0.024756\n",
       "Arrival_at_Pickup_-_Weekday_(Mo_=_1)         0.009744\n",
       "Confirmation_-_Weekday_(Mo_=_1)              0.009744\n",
       "Arrival_at_Destination_-_Weekday_(Mo_=_1)    0.009744\n",
       "Pickup_-_Weekday_(Mo_=_1)                    0.009744\n",
       "Placement_-_Weekday_(Mo_=_1)                 0.009693\n",
       "Temperature                                  0.006465\n",
       "Platform_Type                               -0.003827\n",
       "Pickup_-_Day_of_Month                       -0.014701\n",
       "Arrival_at_Pickup_-_Day_of_Month            -0.014701\n",
       "Confirmation_-_Day_of_Month                 -0.014701\n",
       "Arrival_at_Destination_-_Day_of_Month       -0.014701\n",
       "Placement_-_Day_of_Month                    -0.014710\n",
       "Pickup_Lat                                  -0.053823\n",
       "Destination_Lat                             -0.061872\n",
       "Name: Time_from_Pickup_to_Arrival, dtype: float64"
      ]
     },
     "execution_count": 163,
     "metadata": {
      "tags": []
     },
     "output_type": "execute_result"
    }
   ],
   "source": [
    "#which variables are statitically relevant to arrival time?\n",
    "\n",
    "covariance_og = train.corr()['Time_from_Pickup_to_Arrival'].sort_values(ascending = False)\n",
    "covariance_og"
   ]
  },
  {
   "cell_type": "code",
   "execution_count": null,
   "metadata": {
    "id": "w89GO9A0a9Og"
   },
   "outputs": [],
   "source": [
    "train1 = train1[['Pickup_-_Weekday_(Mo_=_1)',\n",
    "'Precipitation_in_millimeters','Distance_(KM)','Time_from_Pickup_to_Arrival' ]]\n",
    "\n",
    "test1 = test1[['Pickup_-_Weekday_(Mo_=_1)',\n",
    "'Precipitation_in_millimeters','Distance_(KM)']]\n"
   ]
  },
  {
   "cell_type": "code",
   "execution_count": null,
   "metadata": {
    "colab": {
     "base_uri": "https://localhost:8080/",
     "height": 439
    },
    "id": "kus8RDxsbJmG",
    "outputId": "339ec1cb-81e7-4e29-ac47-6a43a8b042ad"
   },
   "outputs": [
    {
     "name": "stdout",
     "output_type": "stream",
     "text": [
      "<class 'pandas.core.frame.DataFrame'>\n",
      "RangeIndex: 21201 entries, 0 to 21200\n",
      "Data columns (total 4 columns):\n",
      " #   Column                        Non-Null Count  Dtype  \n",
      "---  ------                        --------------  -----  \n",
      " 0   Pickup_-_Weekday_(Mo_=_1)     21201 non-null  int64  \n",
      " 1   Precipitation_in_millimeters  552 non-null    float64\n",
      " 2   Distance_(KM)                 21201 non-null  int64  \n",
      " 3   Time_from_Pickup_to_Arrival   21201 non-null  int64  \n",
      "dtypes: float64(1), int64(3)\n",
      "memory usage: 662.7 KB\n",
      "None\n",
      "<class 'pandas.core.frame.DataFrame'>\n",
      "RangeIndex: 7068 entries, 0 to 7067\n",
      "Data columns (total 3 columns):\n",
      " #   Column                        Non-Null Count  Dtype  \n",
      "---  ------                        --------------  -----  \n",
      " 0   Pickup_-_Weekday_(Mo_=_1)     7068 non-null   int64  \n",
      " 1   Precipitation_in_millimeters  199 non-null    float64\n",
      " 2   Distance_(KM)                 7068 non-null   int64  \n",
      "dtypes: float64(1), int64(2)\n",
      "memory usage: 165.8 KB\n",
      "None\n"
     ]
    }
   ],
   "source": [
    "print(train1.info())\n",
    "print(test1.info())"
   ]
  },
  {
   "cell_type": "code",
   "execution_count": null,
   "metadata": {
    "id": "y5_jKqvAbU0J"
   },
   "outputs": [],
   "source": [
    "#make dummies for weekday and weekend traffic\n",
    "train1['Pickup_-_Weekday_(Mo_=_1)'] = train1['Pickup_-_Weekday_(Mo_=_1)'].replace([1,2,3,4,5],0) #only run this once!!\n",
    "train1['Pickup_-_Weekday_(Mo_=_1)'] = train1['Pickup_-_Weekday_(Mo_=_1)'].replace([6,7],1)\n",
    "\n",
    "# make dummy (0) for days with no rain\n",
    "train1['Precipitation_in_millimeters'] = train1['Precipitation_in_millimeters'].fillna(int(0))\n",
    "\n",
    "# make dummy (1) for rainy days\n",
    "train1.loc[train1['Precipitation_in_millimeters'] >0] = int(1)"
   ]
  },
  {
   "cell_type": "code",
   "execution_count": null,
   "metadata": {
    "colab": {
     "base_uri": "https://localhost:8080/",
     "height": 237
    },
    "id": "_wlXuukieEqS",
    "outputId": "dd98aa91-2853-4b72-b384-b088c631b601"
   },
   "outputs": [
    {
     "name": "stdout",
     "output_type": "stream",
     "text": [
      "<class 'pandas.core.frame.DataFrame'>\n",
      "RangeIndex: 21201 entries, 0 to 21200\n",
      "Data columns (total 4 columns):\n",
      " #   Column                        Non-Null Count  Dtype  \n",
      "---  ------                        --------------  -----  \n",
      " 0   Pickup_-_Weekday_(Mo_=_1)     21201 non-null  int64  \n",
      " 1   Precipitation_in_millimeters  21201 non-null  float64\n",
      " 2   Distance_(KM)                 21201 non-null  int64  \n",
      " 3   Time_from_Pickup_to_Arrival   21201 non-null  int64  \n",
      "dtypes: float64(1), int64(3)\n",
      "memory usage: 662.7 KB\n",
      "None\n"
     ]
    }
   ],
   "source": [
    "print(train1.info())"
   ]
  },
  {
   "cell_type": "code",
   "execution_count": null,
   "metadata": {
    "id": "k_lrTtMtbgaH"
   },
   "outputs": [],
   "source": [
    "#make dummies for weekday and weekend traffic\n",
    "test1['Pickup_-_Weekday_(Mo_=_1)'] = test1['Pickup_-_Weekday_(Mo_=_1)'].replace([1,2,3,4,5],0) #only run this once!!!!!\n",
    "test1['Pickup_-_Weekday_(Mo_=_1)'] = test1['Pickup_-_Weekday_(Mo_=_1)'].replace([6,7],1)\n",
    "\n",
    "# no rain day get dummy 0\n",
    "test1['Precipitation_in_millimeters'] = test1['Precipitation_in_millimeters'].fillna(int(0))\n",
    "\n",
    "# rain days get dummy 1\n",
    "test1.loc[test1['Precipitation_in_millimeters'] >0] = int(1)"
   ]
  },
  {
   "cell_type": "code",
   "execution_count": null,
   "metadata": {
    "colab": {
     "base_uri": "https://localhost:8080/",
     "height": 219
    },
    "id": "yzMnZntAepEZ",
    "outputId": "3d5e0631-ef95-4f11-9a7f-c845ac617b2a"
   },
   "outputs": [
    {
     "name": "stdout",
     "output_type": "stream",
     "text": [
      "<class 'pandas.core.frame.DataFrame'>\n",
      "RangeIndex: 7068 entries, 0 to 7067\n",
      "Data columns (total 3 columns):\n",
      " #   Column                        Non-Null Count  Dtype  \n",
      "---  ------                        --------------  -----  \n",
      " 0   Pickup_-_Weekday_(Mo_=_1)     7068 non-null   int64  \n",
      " 1   Precipitation_in_millimeters  7068 non-null   float64\n",
      " 2   Distance_(KM)                 7068 non-null   int64  \n",
      "dtypes: float64(1), int64(2)\n",
      "memory usage: 165.8 KB\n",
      "None\n"
     ]
    }
   ],
   "source": [
    "print(test1.info())"
   ]
  },
  {
   "cell_type": "code",
   "execution_count": null,
   "metadata": {
    "colab": {
     "base_uri": "https://localhost:8080/",
     "height": 237
    },
    "id": "Z89JVtABew0X",
    "outputId": "b9e64781-1d32-4692-a896-c52dbb187efe"
   },
   "outputs": [
    {
     "name": "stdout",
     "output_type": "stream",
     "text": [
      "0.0    6869\n",
      "1.0     199\n",
      "Name: Precipitation_in_millimeters, dtype: int64\n",
      "0    6385\n",
      "1     683\n",
      "Name: Pickup_-_Weekday_(Mo_=_1), dtype: int64\n",
      "0.0    20649\n",
      "1.0      552\n",
      "Name: Precipitation_in_millimeters, dtype: int64\n",
      "0    19260\n",
      "1     1941\n",
      "Name: Pickup_-_Weekday_(Mo_=_1), dtype: int64\n"
     ]
    }
   ],
   "source": [
    "print(test1['Precipitation_in_millimeters'].value_counts())\n",
    "print(test1['Pickup_-_Weekday_(Mo_=_1)'].value_counts())\n",
    "print(train1['Precipitation_in_millimeters'].value_counts())\n",
    "print(train1['Pickup_-_Weekday_(Mo_=_1)'].value_counts())"
   ]
  },
  {
   "cell_type": "code",
   "execution_count": null,
   "metadata": {
    "id": "vJwxDhNWf5mo"
   },
   "outputs": [],
   "source": [
    "test1['Time_from_Pickup_to_Arrival'] = np.nan\n"
   ]
  },
  {
   "cell_type": "code",
   "execution_count": null,
   "metadata": {
    "colab": {
     "base_uri": "https://localhost:8080/",
     "height": 219
    },
    "id": "0R-ot6rhjt_D",
    "outputId": "9cc91570-03ed-468a-c8b8-71e39073afbc"
   },
   "outputs": [
    {
     "name": "stdout",
     "output_type": "stream",
     "text": [
      "<class 'pandas.core.frame.DataFrame'>\n",
      "RangeIndex: 7068 entries, 0 to 7067\n",
      "Data columns (total 4 columns):\n",
      " #   Column                        Non-Null Count  Dtype  \n",
      "---  ------                        --------------  -----  \n",
      " 0   Pickup_-_Weekday_(Mo_=_1)     7068 non-null   int64  \n",
      " 1   Precipitation_in_millimeters  7068 non-null   float64\n",
      " 2   Distance_(KM)                 7068 non-null   int64  \n",
      " 3   Time_from_Pickup_to_Arrival   0 non-null      float64\n",
      "dtypes: float64(2), int64(2)\n",
      "memory usage: 221.0 KB\n"
     ]
    }
   ],
   "source": [
    "test1['Time_from_Pickup_to_Arrival'].unique()\n",
    "test1.info()"
   ]
  },
  {
   "cell_type": "code",
   "execution_count": null,
   "metadata": {
    "colab": {
     "base_uri": "https://localhost:8080/",
     "height": 175
    },
    "id": "Oaw8kmfADIDb",
    "outputId": "62e44d3f-88a3-411d-fe08-30579435bec3"
   },
   "outputs": [
    {
     "data": {
      "text/html": [
       "<div>\n",
       "<style scoped>\n",
       "    .dataframe tbody tr th:only-of-type {\n",
       "        vertical-align: middle;\n",
       "    }\n",
       "\n",
       "    .dataframe tbody tr th {\n",
       "        vertical-align: top;\n",
       "    }\n",
       "\n",
       "    .dataframe thead th {\n",
       "        text-align: right;\n",
       "    }\n",
       "</style>\n",
       "<table border=\"1\" class=\"dataframe\">\n",
       "  <thead>\n",
       "    <tr style=\"text-align: right;\">\n",
       "      <th></th>\n",
       "      <th>Pickup_-_Weekday_(Mo_=_1)</th>\n",
       "      <th>Precipitation_in_millimeters</th>\n",
       "      <th>Distance_(KM)</th>\n",
       "      <th>Time_from_Pickup_to_Arrival</th>\n",
       "    </tr>\n",
       "  </thead>\n",
       "  <tbody>\n",
       "    <tr>\n",
       "      <th>Pickup_-_Weekday_(Mo_=_1)</th>\n",
       "      <td>1.000000</td>\n",
       "      <td>0.515033</td>\n",
       "      <td>-0.102984</td>\n",
       "      <td>-0.145553</td>\n",
       "    </tr>\n",
       "    <tr>\n",
       "      <th>Precipitation_in_millimeters</th>\n",
       "      <td>0.515033</td>\n",
       "      <td>1.000000</td>\n",
       "      <td>-0.235122</td>\n",
       "      <td>-0.246115</td>\n",
       "    </tr>\n",
       "    <tr>\n",
       "      <th>Distance_(KM)</th>\n",
       "      <td>-0.102984</td>\n",
       "      <td>-0.235122</td>\n",
       "      <td>1.000000</td>\n",
       "      <td>0.603615</td>\n",
       "    </tr>\n",
       "    <tr>\n",
       "      <th>Time_from_Pickup_to_Arrival</th>\n",
       "      <td>-0.145553</td>\n",
       "      <td>-0.246115</td>\n",
       "      <td>0.603615</td>\n",
       "      <td>1.000000</td>\n",
       "    </tr>\n",
       "  </tbody>\n",
       "</table>\n",
       "</div>"
      ],
      "text/plain": [
       "                              Pickup_-_Weekday_(Mo_=_1)  ...  Time_from_Pickup_to_Arrival\n",
       "Pickup_-_Weekday_(Mo_=_1)                      1.000000  ...                    -0.145553\n",
       "Precipitation_in_millimeters                   0.515033  ...                    -0.246115\n",
       "Distance_(KM)                                 -0.102984  ...                     0.603615\n",
       "Time_from_Pickup_to_Arrival                   -0.145553  ...                     1.000000\n",
       "\n",
       "[4 rows x 4 columns]"
      ]
     },
     "execution_count": 174,
     "metadata": {
      "tags": []
     },
     "output_type": "execute_result"
    }
   ],
   "source": [
    "cov = train1.corr()#['Time_from_Pickup_to_Arrival']\n",
    "cov"
   ]
  },
  {
   "cell_type": "code",
   "execution_count": null,
   "metadata": {
    "colab": {
     "base_uri": "https://localhost:8080/",
     "height": 403
    },
    "id": "pIv7hbkAEMfq",
    "outputId": "a87efdbd-c776-4e50-bdab-c390402d5eac"
   },
   "outputs": [
    {
     "data": {
      "image/png": "[encoded data removed]",
      "text/plain": [
       "<Figure size 432x288 with 2 Axes>"
      ]
     },
     "metadata": {
      "needs_background": "light",
      "tags": []
     },
     "output_type": "display_data"
    }
   ],
   "source": [
    "sns.heatmap(cov)\n",
    "plt.show()"
   ]
  },
  {
   "cell_type": "code",
   "execution_count": null,
   "metadata": {
    "id": "K1DGXWVxkVgf"
   },
   "outputs": [],
   "source": [
    "##TRAIN MODEL WITH TRAIN1\n",
    "\n",
    "x = train1.drop('Time_from_Pickup_to_Arrival', axis=1)\n",
    "y = train1['Time_from_Pickup_to_Arrival']"
   ]
  },
  {
   "cell_type": "code",
   "execution_count": null,
   "metadata": {
    "id": "SaO6XkIukwCz"
   },
   "outputs": [],
   "source": [
    "lr = LinearRegression(normalize=True)\n",
    "X_train, X_test, y_train, y_test = train_test_split(x,y, test_size =0.2)\n",
    "\n",
    "lr.fit(X_train, y_train)\n",
    "y_preds = lr.predict(X_test)"
   ]
  },
  {
   "cell_type": "code",
   "execution_count": null,
   "metadata": {
    "id": "o5t1xQXyk_sD"
   },
   "outputs": [],
   "source": [
    "def rmse(y_test, y_predict):\n",
    "  return np.sqrt(mean_squared_error(y_test, y_predict))"
   ]
  },
  {
   "cell_type": "code",
   "execution_count": null,
   "metadata": {
    "colab": {
     "base_uri": "https://localhost:8080/",
     "height": 35
    },
    "id": "-lhYI-TIlKzX",
    "outputId": "c0614a19-2c2d-4582-b36f-6dfcbd2afd2d"
   },
   "outputs": [
    {
     "data": {
      "text/plain": [
       "780.1791766597185"
      ]
     },
     "execution_count": 179,
     "metadata": {
      "tags": []
     },
     "output_type": "execute_result"
    }
   ],
   "source": [
    "answer = rmse(y_test, y_preds)\n",
    "answer"
   ]
  },
  {
   "cell_type": "code",
   "execution_count": null,
   "metadata": {
    "colab": {
     "base_uri": "https://localhost:8080/",
     "height": 35
    },
    "id": "XGuaQQMSlRMR",
    "outputId": "0e89901e-783e-414c-dd7f-6a4334e62fb5"
   },
   "outputs": [
    {
     "data": {
      "text/plain": [
       "LinearRegression(copy_X=True, fit_intercept=True, n_jobs=None, normalize=True)"
      ]
     },
     "execution_count": 180,
     "metadata": {
      "tags": []
     },
     "output_type": "execute_result"
    }
   ],
   "source": [
    "xt = test1.drop('Time_from_Pickup_to_Arrival', axis=1)\n",
    "\n",
    "lr.fit(x,y)\n"
   ]
  },
  {
   "cell_type": "code",
   "execution_count": null,
   "metadata": {
    "colab": {
     "base_uri": "https://localhost:8080/",
     "height": 54
    },
    "id": "iQ9PxHflqA_0",
    "outputId": "2dc25036-2d03-4b5b-e9f9-73b99a4dbe67"
   },
   "outputs": [
    {
     "data": {
      "text/plain": [
       "array([1413.95247001, 1110.58924876, 1110.58924876, ..., 1616.19461751,\n",
       "       2425.1632075 , 1413.95247001])"
      ]
     },
     "execution_count": 181,
     "metadata": {
      "tags": []
     },
     "output_type": "execute_result"
    }
   ],
   "source": [
    "ytest_preds = lr.predict(xt)\n",
    "ytest_preds"
   ]
  },
  {
   "cell_type": "code",
   "execution_count": null,
   "metadata": {
    "colab": {
     "base_uri": "https://localhost:8080/",
     "height": 206
    },
    "id": "A_rVW8jGqsX0",
    "outputId": "da918ad1-8827-409b-85e2-6a6a00f75d32"
   },
   "outputs": [
    {
     "data": {
      "text/html": [
       "<div>\n",
       "<style scoped>\n",
       "    .dataframe tbody tr th:only-of-type {\n",
       "        vertical-align: middle;\n",
       "    }\n",
       "\n",
       "    .dataframe tbody tr th {\n",
       "        vertical-align: top;\n",
       "    }\n",
       "\n",
       "    .dataframe thead th {\n",
       "        text-align: right;\n",
       "    }\n",
       "</style>\n",
       "<table border=\"1\" class=\"dataframe\">\n",
       "  <thead>\n",
       "    <tr style=\"text-align: right;\">\n",
       "      <th></th>\n",
       "      <th>Time_from_Pickup_to_Arrival</th>\n",
       "    </tr>\n",
       "  </thead>\n",
       "  <tbody>\n",
       "    <tr>\n",
       "      <th>0</th>\n",
       "      <td>1413.952470</td>\n",
       "    </tr>\n",
       "    <tr>\n",
       "      <th>1</th>\n",
       "      <td>1110.589249</td>\n",
       "    </tr>\n",
       "    <tr>\n",
       "      <th>2</th>\n",
       "      <td>1110.589249</td>\n",
       "    </tr>\n",
       "    <tr>\n",
       "      <th>3</th>\n",
       "      <td>1110.589249</td>\n",
       "    </tr>\n",
       "    <tr>\n",
       "      <th>4</th>\n",
       "      <td>1211.710323</td>\n",
       "    </tr>\n",
       "  </tbody>\n",
       "</table>\n",
       "</div>"
      ],
      "text/plain": [
       "   Time_from_Pickup_to_Arrival\n",
       "0                  1413.952470\n",
       "1                  1110.589249\n",
       "2                  1110.589249\n",
       "3                  1110.589249\n",
       "4                  1211.710323"
      ]
     },
     "execution_count": 182,
     "metadata": {
      "tags": []
     },
     "output_type": "execute_result"
    }
   ],
   "source": [
    "daf = pd.DataFrame(ytest_preds, columns=['Time_from_Pickup_to_Arrival'])\n",
    "daf.head()"
   ]
  },
  {
   "cell_type": "code",
   "execution_count": null,
   "metadata": {
    "colab": {
     "base_uri": "https://localhost:8080/",
     "height": 424
    },
    "id": "iWG_9O9AquqG",
    "outputId": "b7409c31-246f-49f9-dcef-53bbf83c83db"
   },
   "outputs": [
    {
     "data": {
      "text/html": [
       "<div>\n",
       "<style scoped>\n",
       "    .dataframe tbody tr th:only-of-type {\n",
       "        vertical-align: middle;\n",
       "    }\n",
       "\n",
       "    .dataframe tbody tr th {\n",
       "        vertical-align: top;\n",
       "    }\n",
       "\n",
       "    .dataframe thead th {\n",
       "        text-align: right;\n",
       "    }\n",
       "</style>\n",
       "<table border=\"1\" class=\"dataframe\">\n",
       "  <thead>\n",
       "    <tr style=\"text-align: right;\">\n",
       "      <th></th>\n",
       "      <th>Order No</th>\n",
       "      <th>Time_from_Pickup_to_Arrival</th>\n",
       "    </tr>\n",
       "  </thead>\n",
       "  <tbody>\n",
       "    <tr>\n",
       "      <th>0</th>\n",
       "      <td>Order_No_19248</td>\n",
       "      <td>1413.952470</td>\n",
       "    </tr>\n",
       "    <tr>\n",
       "      <th>1</th>\n",
       "      <td>Order_No_12736</td>\n",
       "      <td>1110.589249</td>\n",
       "    </tr>\n",
       "    <tr>\n",
       "      <th>2</th>\n",
       "      <td>Order_No_768</td>\n",
       "      <td>1110.589249</td>\n",
       "    </tr>\n",
       "    <tr>\n",
       "      <th>3</th>\n",
       "      <td>Order_No_15332</td>\n",
       "      <td>1110.589249</td>\n",
       "    </tr>\n",
       "    <tr>\n",
       "      <th>4</th>\n",
       "      <td>Order_No_21373</td>\n",
       "      <td>1211.710323</td>\n",
       "    </tr>\n",
       "    <tr>\n",
       "      <th>...</th>\n",
       "      <td>...</td>\n",
       "      <td>...</td>\n",
       "    </tr>\n",
       "    <tr>\n",
       "      <th>7063</th>\n",
       "      <td>Order_No_3612</td>\n",
       "      <td>1110.589249</td>\n",
       "    </tr>\n",
       "    <tr>\n",
       "      <th>7064</th>\n",
       "      <td>Order_No_7657</td>\n",
       "      <td>2829.647503</td>\n",
       "    </tr>\n",
       "    <tr>\n",
       "      <th>7065</th>\n",
       "      <td>Order_No_1969</td>\n",
       "      <td>1616.194618</td>\n",
       "    </tr>\n",
       "    <tr>\n",
       "      <th>7066</th>\n",
       "      <td>Order_No_10591</td>\n",
       "      <td>2425.163208</td>\n",
       "    </tr>\n",
       "    <tr>\n",
       "      <th>7067</th>\n",
       "      <td>Order_No_1603</td>\n",
       "      <td>1413.952470</td>\n",
       "    </tr>\n",
       "  </tbody>\n",
       "</table>\n",
       "<p>7068 rows × 2 columns</p>\n",
       "</div>"
      ],
      "text/plain": [
       "            Order No  Time_from_Pickup_to_Arrival\n",
       "0     Order_No_19248                  1413.952470\n",
       "1     Order_No_12736                  1110.589249\n",
       "2       Order_No_768                  1110.589249\n",
       "3     Order_No_15332                  1110.589249\n",
       "4     Order_No_21373                  1211.710323\n",
       "...              ...                          ...\n",
       "7063   Order_No_3612                  1110.589249\n",
       "7064   Order_No_7657                  2829.647503\n",
       "7065   Order_No_1969                  1616.194618\n",
       "7066  Order_No_10591                  2425.163208\n",
       "7067   Order_No_1603                  1413.952470\n",
       "\n",
       "[7068 rows x 2 columns]"
      ]
     },
     "execution_count": 183,
     "metadata": {
      "tags": []
     },
     "output_type": "execute_result"
    }
   ],
   "source": [
    "output = pd.DataFrame({\"Order No\":test['Order_No']})\n",
    "submission = output.join(daf)\n",
    "submission"
   ]
  },
  {
   "cell_type": "code",
   "execution_count": null,
   "metadata": {
    "id": "ug7kVwN3rDtk"
   },
   "outputs": [],
   "source": [
    "submission.to_csv('submission_10.csv', index=False)"
   ]
  },
  {
   "cell_type": "code",
   "execution_count": null,
   "metadata": {
    "colab": {
     "base_uri": "https://localhost:8080/",
     "height": 35
    },
    "id": "oBP51_yqrG2O",
    "outputId": "29ddce2d-d626-4c4e-eca9-3430cd38a194"
   },
   "outputs": [
    {
     "name": "stdout",
     "output_type": "stream",
     "text": [
      "Sendy Submission: 780.1791766597185\n"
     ]
    }
   ],
   "source": [
    "print('Sendy Submission:', answer)"
   ]
  }
 ],
 "metadata": {
  "colab": {
   "collapsed_sections": [],
   "name": "sendy_LR-normalised",
   "provenance": []
  },
  "kernelspec": {
   "display_name": "Python 3",
   "language": "python",
   "name": "python3"
  },
  "language_info": {
   "codemirror_mode": {
    "name": "ipython",
    "version": 3
   },
   "file_extension": ".py",
   "mimetype": "text/x-python",
   "name": "python",
   "nbconvert_exporter": "python",
   "pygments_lexer": "ipython3",
   "version": "3.8.5"
  }
 },
 "nbformat": 4,
 "nbformat_minor": 1
}
